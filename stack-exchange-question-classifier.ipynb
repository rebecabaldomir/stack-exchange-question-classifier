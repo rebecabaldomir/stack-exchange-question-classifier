{
 "cells": [
  {
   "cell_type": "markdown",
   "metadata": {},
   "source": [
    "# Stack Exchange Question Classifier"
   ]
  },
  {
   "cell_type": "markdown",
   "metadata": {},
   "source": [
    "Stack Exchange é um repositório de informações que possui 105 tópicos diferentes e cada tópico tem uma acervo de perguntas que foram feitas e respondidas por membros experientes da comunidade do StackExchange. Os tópicos são tão diversos quanto viagens, culinária, programação, engenharia e fotografia. Foram escolhidos 10 categoria de tópicos (gis, security, photo, mathematica, unix, wordpress, scifi, electronics, android, apple) e dada uma pergunta e um trecho, sua tarefa é identificar quais dentre os 10 tópicos a que pertence."
   ]
  },
  {
   "cell_type": "code",
   "execution_count": 149,
   "metadata": {},
   "outputs": [],
   "source": [
    "import json\n",
    "import numpy as np\n",
    "import matplotlib.pyplot as plt\n",
    "from sklearn.feature_extraction.text import CountVectorizer\n",
    "from sklearn.feature_extraction.text import TfidfTransformer\n",
    "from sklearn.naive_bayes import MultinomialNB"
   ]
  },
  {
   "cell_type": "markdown",
   "metadata": {},
   "source": [
    "### 1. Leitura e formatação dos dados"
   ]
  },
  {
   "cell_type": "code",
   "execution_count": 192,
   "metadata": {},
   "outputs": [
    {
     "name": "stdout",
     "output_type": "stream",
     "text": [
      "                                                 excerpt  \\\n",
      "0      I'm trying to work out, in general terms, the ...   \n",
      "1      Can I know which component senses heat or acts...   \n",
      "2      I am replacing a wall outlet with a Cooper Wir...   \n",
      "3      i have been reading about the buck converter, ...   \n",
      "4      I need help with deciding on a Master's Projec...   \n",
      "5      Is it possible to supply power to a very high ...   \n",
      "6      My solenoid is part of an old espresso machine...   \n",
      "7      I use IP core PCI-E for Virtex-6 v.2.5\\n\\nTher...   \n",
      "8      I want to replace an ON Semicondutor BC557 PNP...   \n",
      "9      I will be using the AT32UC3C2512C, the AVR3276...   \n",
      "10     So I had an old gen 1 ipad that my son tried t...   \n",
      "11     I flashed the router with OpenWRT and it worke...   \n",
      "12     I posted a similar question a while ago and go...   \n",
      "13     I need to buy a voltage converter(adapter) for...   \n",
      "14     I had purchased an ATMEGA 16 microcontroller a...   \n",
      "15     My computer AVR's switch just got broken. Do y...   \n",
      "16     I'm looking into creating a solution to monito...   \n",
      "17     I am a new to electronics. I am trying to setu...   \n",
      "18     If I have an oscillator at 10 kHz outputting 5...   \n",
      "19     Using a packet sniffer I am able to detect and...   \n",
      "20     I'm sitting an exam on Computer Architecture i...   \n",
      "21     Our school decided to go and buy some good CAD...   \n",
      "22     I read that the frequencies over which FM sign...   \n",
      "23     I need RS232 IC with Features: power supply 3....   \n",
      "24     I have a product that was designed to sell in ...   \n",
      "25     My apologies in advance if this is not a good ...   \n",
      "26     I'm struggling a bit with the following calcul...   \n",
      "27     I am looking for surface mount LEDs that have ...   \n",
      "28     At higher temperatures, will computers get fas...   \n",
      "29     This question is based on another question sub...   \n",
      "...                                                  ...   \n",
      "20189  I'm considering rebuilding a drupal site in wo...   \n",
      "20190  I have to add a variable value myvarvalue to e...   \n",
      "20191  I want to \"save\" my menus into transients. I w...   \n",
      "20192  How do I place the following javaScript in the...   \n",
      "20193  I'm running a wordpress blog. \\nMy blog is ver...   \n",
      "20194  I have a custom post type where I have testimo...   \n",
      "20195  I'm trying to configure the comments screen in...   \n",
      "20196  I would like to know, what is the best practic...   \n",
      "20197  please i am wondering if there was a plugin or...   \n",
      "20198  Hi I need to make automated price updater of m...   \n",
      "20199  WordPress makes it easy to embed youtube video...   \n",
      "20200  I'm trying to create my own custom fields meta...   \n",
      "20201  I only want to show up projects with specific ...   \n",
      "20202  I installed bbPress and for the most part it w...   \n",
      "20203  Ok, so I'm totally confused on this and am loo...   \n",
      "20204  I'm trying to adjust the comments screen for n...   \n",
      "20205  I have a Custom Post Type of \"projects\", that ...   \n",
      "20206  I am new in PHP and WordPress and I am persona...   \n",
      "20207  The following code loops through posts, and th...   \n",
      "20208  I've got a small challenge,  right now I have ...   \n",
      "20209  I created a custom field called 'Page Descript...   \n",
      "20210  I’m doing up a photography theme in WP at the ...   \n",
      "20211  Trying to filter out specific posts that have ...   \n",
      "20212  I am using the below mentioned code to get top...   \n",
      "20213  So here is my problem, I modified a starkers t...   \n",
      "20214  I have a Custom Post Type called Recipe with p...   \n",
      "20215  I'm using the code below to track when a user ...   \n",
      "20216  add_action( 'pre_get_posts', 'custom_pre_get_p...   \n",
      "20217  i have wordpress blog with many posts. each po...   \n",
      "20218  I have many issues with the use of rewriting, ...   \n",
      "\n",
      "                                                question        topic  \n",
      "0      What is the effective differencial effective o...  electronics  \n",
      "1                           Heat sensor with fan cooling  electronics  \n",
      "2      Outlet Installation--more wires than my new ou...  electronics  \n",
      "3                      Buck Converter Operation Question  electronics  \n",
      "4      Urgent help in area of ASIC design, verificati...  electronics  \n",
      "5             Slowly supplying power to a very high load  electronics  \n",
      "6      I have a 110 VAC solenoid and want to know wha...  electronics  \n",
      "7      Can't read user-defined configuration space pc...  electronics  \n",
      "8      Understanding specs of PNP transistor for repl...  electronics  \n",
      "9                        MCU crystal capacitor selection  electronics  \n",
      "10         Manually recharging an ipad battery [on hold]  electronics  \n",
      "11     Wr703n Soldered Serial line, might have burned...  electronics  \n",
      "12                      Solar panel not charging battery  electronics  \n",
      "13     Device labeled 220/230V, 50Hz, 35V-A. What wat...  electronics  \n",
      "14               _delay_ms not working with ATmega 16/32  electronics  \n",
      "15     Is it alright if I'll just connect the black a...  electronics  \n",
      "16       Proper way to monitor temperature of a surface?  electronics  \n",
      "17                AttatchInterrupt Constantly interrupts  electronics  \n",
      "18                                     RF power envelope  electronics  \n",
      "19     how do you hook into a live stream of 802.15.4...  electronics  \n",
      "20       Functional Unit and Micro-operations Schematics  electronics  \n",
      "21     Collecting best CAD software for drawing elect...  electronics  \n",
      "22                    What decides the range of FM band?  electronics  \n",
      "23     Is possible use driver and receiver from diffe...  electronics  \n",
      "24     Can I sell a CSA approved product in the US at...  electronics  \n",
      "25     Is it possible to modify an HDMI/coax/PC video...  electronics  \n",
      "26                            Node transmission per hour  electronics  \n",
      "27     Surface Mount LEDs that are similar to these t...  electronics  \n",
      "28         Do computers speed up at higher temperatures?  electronics  \n",
      "29                      AMD/Intel CPU Yield/Failure Rate  electronics  \n",
      "...                                                  ...          ...  \n",
      "20189  Can multiple custom post types share a custom ...    wordpress  \n",
      "20190              Add query var to every post permalink    wordpress  \n",
      "20191  Is there an action for save_menu and/or update...    wordpress  \n",
      "20192       javaScript in &lt;head&gt; section of WP API    wordpress  \n",
      "20193             HTTP Code 302 on Google Webmaster tool    wordpress  \n",
      "20194  WP_Query - How to show last post from each met...    wordpress  \n",
      "20195  Comments screen in backend, how to disable ema...    wordpress  \n",
      "20196        Best practice to update the file header.php    wordpress  \n",
      "20197  How to add thumbnails to posts and pages autom...    wordpress  \n",
      "20198  I need to create a dashboard widget with input...    wordpress  \n",
      "20199              Auto-centering youtube videos in post    wordpress  \n",
      "20200  Custom fields: my custom checkbox area doesn't...    wordpress  \n",
      "20201  Echo Custom Post Types - show project with tax...    wordpress  \n",
      "20202          Setup login/register buttons for bbPress?    wordpress  \n",
      "20203  Weird Code Being Added to Wordpress Site [Thesis]    wordpress  \n",
      "20204  Comments screen in backend, how to disable Qui...    wordpress  \n",
      "20205  How to List Parent Term Links for Custom Taxon...    wordpress  \n",
      "20206  Some problems calling a function into sprintf(...    wordpress  \n",
      "20207  Looping through textfield submission and savin...    wordpress  \n",
      "20208                Change Image Sizes for Mobile Theme    wordpress  \n",
      "20209        Custom fields won't display on my blog page    wordpress  \n",
      "20210  Hiding or removing file extension displayed in...    wordpress  \n",
      "20211           filter posts by meta key with pagination    wordpress  \n",
      "20212        Adding Multiple “Parents” in get_categories    wordpress  \n",
      "20213  Page content not indexed in the Wordpress sear...    wordpress  \n",
      "20214  How to set a Custom Post Type as the parent of...    wordpress  \n",
      "20215                 Tracking last login and last visit    wordpress  \n",
      "20216  How to exclude the particular category from th...    wordpress  \n",
      "20217  display sub categories assoccited with each po...    wordpress  \n",
      "20218       Lost of query parameter when using permalink    wordpress  \n",
      "\n",
      "[20219 rows x 3 columns]\n"
     ]
    }
   ],
   "source": [
    "data = pd.read_json('training.json', orient='columns')\n",
    "print data"
   ]
  },
  {
   "cell_type": "markdown",
   "metadata": {},
   "source": [
    "Para executar algoritmos de aprendizado de máquina, precisamos converter os arquivos de texto em vetores de features numéricas. Nós estaremos usando o modelo 'bag of words' para o nosso exemplo. Resumidamente, nós segmentamos cada arquivo de texto em palavras (dividido pelo espaço) e contamos o número de vezes que cada palavra ocorre em cada documento e finalmente atribuímos a cada palavra um ID inteiro. Cada palavra única no nosso dicionário irá corresponder a uma característica "
   ]
  },
  {
   "cell_type": "code",
   "execution_count": 191,
   "metadata": {},
   "outputs": [
    {
     "data": {
      "text/plain": [
       "(20219, 29135)"
      ]
     },
     "execution_count": 191,
     "metadata": {},
     "output_type": "execute_result"
    }
   ],
   "source": [
    "df = CountVectorizer(stop_words='english', strip_accents='unicode')\n",
    "\n",
    "data_test = data['excerpt']\n",
    "y = data['topic']\n",
    "\n",
    "X_train = df.fit_transform(data_test)\n",
    "X_train.shape"
   ]
  },
  {
   "cell_type": "markdown",
   "metadata": {},
   "source": [
    "Selecionando cada tipo de variável (features e target) do conjunto de dados. Apenas contar o número de palavras em cada documento tem um problema: ele dará mais peso a documentos mais longos do que documentos mais curtos. Para evitar isso, podemos usar a frequência (TF - Term Frequencies) e, também, podemos até reduzir o peso de palavras mais comuns (TF-IDF - Term Frequency times inverse document frequency)."
   ]
  },
  {
   "cell_type": "code",
   "execution_count": 183,
   "metadata": {},
   "outputs": [
    {
     "data": {
      "text/plain": [
       "(20219, 29135)"
      ]
     },
     "execution_count": 183,
     "metadata": {},
     "output_type": "execute_result"
    }
   ],
   "source": [
    "tfidf_transformer = TfidfTransformer()\n",
    "X_train_tfidf = tfidf_transformer.fit_transform(X_train)\n",
    "X_train_tfidf.shape"
   ]
  },
  {
   "cell_type": "markdown",
   "metadata": {},
   "source": [
    "Existem vários algoritmos que podem ser usados para classificação de texto, vamos usar Naive Bayes do sklearn."
   ]
  },
  {
   "cell_type": "markdown",
   "metadata": {},
   "source": [
    "### 2. Treinamento"
   ]
  },
  {
   "cell_type": "code",
   "execution_count": 184,
   "metadata": {},
   "outputs": [
    {
     "data": {
      "text/plain": [
       "MultinomialNB(alpha=1.0, class_prior=None, fit_prior=True)"
      ]
     },
     "execution_count": 184,
     "metadata": {},
     "output_type": "execute_result"
    }
   ],
   "source": [
    "naive_bayes = MultinomialNB()\n",
    "naive_bayes.fit(X_train, y)"
   ]
  },
  {
   "cell_type": "markdown",
   "metadata": {},
   "source": [
    "### 3. Teste"
   ]
  },
  {
   "cell_type": "code",
   "execution_count": 187,
   "metadata": {},
   "outputs": [],
   "source": [
    "#data_test_json = json.load(open('input00.txt'))\n",
    "data_test_json = pd.read_json('input00.txt', orient='columns')"
   ]
  },
  {
   "cell_type": "code",
   "execution_count": 188,
   "metadata": {},
   "outputs": [],
   "source": [
    "X = data_test_json['excerpt']\n",
    "#for line in data_test:\n",
    "#    test = [line['excerpt']]\n",
    "\n",
    "X_test = df.transform(X)"
   ]
  },
  {
   "cell_type": "code",
   "execution_count": 189,
   "metadata": {},
   "outputs": [],
   "source": [
    "y_pred = naive_bayes.predict(X_test)"
   ]
  },
  {
   "cell_type": "code",
   "execution_count": 199,
   "metadata": {},
   "outputs": [
    {
     "name": "stdout",
     "output_type": "stream",
     "text": [
      "Success:  1\n"
     ]
    }
   ],
   "source": [
    "\n",
    "import pandas as pd\n",
    "\n",
    "#output = json.load(open('output00.txt'))\n",
    "y_true = pd.read_table('output00.txt')\n",
    "\n",
    "success = 0\n",
    "fail = 0\n",
    "for x, y in zip(X_test, y_true):\n",
    "    y_pred = naive_bayes.predict(x)\n",
    "    if y_pred == y:\n",
    "        success += 1\n",
    "    else:\n",
    "        fail += 1\n",
    "\n",
    "print 'Success: ', success/(success + fail)"
   ]
  },
  {
   "cell_type": "code",
   "execution_count": null,
   "metadata": {},
   "outputs": [],
   "source": []
  }
 ],
 "metadata": {
  "kernelspec": {
   "display_name": "Python 2",
   "language": "python",
   "name": "python2"
  },
  "language_info": {
   "codemirror_mode": {
    "name": "ipython",
    "version": 2
   },
   "file_extension": ".py",
   "mimetype": "text/x-python",
   "name": "python",
   "nbconvert_exporter": "python",
   "pygments_lexer": "ipython2",
   "version": "2.7.14"
  }
 },
 "nbformat": 4,
 "nbformat_minor": 2
}
