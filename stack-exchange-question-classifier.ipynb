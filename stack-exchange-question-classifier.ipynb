{
 "cells": [
  {
   "cell_type": "markdown",
   "metadata": {},
   "source": [
    "# Stack Exchange Question Classifier"
   ]
  },
  {
   "cell_type": "markdown",
   "metadata": {},
   "source": [
    "Stack Exchange é um repositório de informações que possui 105 tópicos diferentes e cada tópico tem uma acervo de perguntas que foram feitas e respondidas por membros experientes da comunidade do StackExchange. Os tópicos são tão diversos quanto viagens, culinária, programação, engenharia e fotografia. Foram escolhidos 10 categoria de tópicos (gis, security, photo, mathematica, unix, wordpress, scifi, electronics, android, apple) e dada uma pergunta e um trecho, sua tarefa é identificar quais dentre os 10 tópicos a que pertence."
   ]
  },
  {
   "cell_type": "code",
   "execution_count": 125,
   "metadata": {},
   "outputs": [],
   "source": [
    "import json\n",
    "import numpy as np\n",
    "import pandas as pd\n",
    "import matplotlib.pyplot as plt\n",
    "from sklearn.naive_bayes import MultinomialNB\n",
    "from sklearn.linear_model import SGDClassifier\n",
    "from sklearn.feature_extraction.text import CountVectorizer\n",
    "from sklearn.feature_extraction.text import TfidfTransformer\n",
    "from sklearn.feature_extraction.text import TfidfVectorizer"
   ]
  },
  {
   "cell_type": "markdown",
   "metadata": {},
   "source": [
    "### 1. Leitura e formatação dos dados"
   ]
  },
  {
   "cell_type": "code",
   "execution_count": 126,
   "metadata": {},
   "outputs": [],
   "source": [
    "data = pd.read_json('training.json', orient='records')"
   ]
  },
  {
   "cell_type": "markdown",
   "metadata": {},
   "source": [
    "Para executar algoritmos de aprendizado de máquina, precisamos converter os arquivos de texto em vetores de features numéricas. Nós estaremos usando o modelo 'bag of words' para o nosso exemplo. Resumidamente, nós segmentamos cada arquivo de texto em palavras (dividido pelo espaço) e contamos o número de vezes que cada palavra ocorre em cada documento e finalmente atribuímos a cada palavra um ID inteiro. Cada palavra única no nosso dicionário irá corresponder a uma característica "
   ]
  },
  {
   "cell_type": "code",
   "execution_count": 127,
   "metadata": {},
   "outputs": [
    {
     "data": {
      "text/plain": [
       "(20219, 344608)"
      ]
     },
     "execution_count": 127,
     "metadata": {},
     "output_type": "execute_result"
    }
   ],
   "source": [
    "df = CountVectorizer(stop_words='english', strip_accents='unicode', ngram_range=(1, 2))\n",
    "#df = CountVectorizer()\n",
    "\n",
    "\n",
    "data_test = data['excerpt'] + ' ' + data['question']\n",
    "\n",
    "y = data['topic']\n",
    "\n",
    "X_train = df.fit_transform(data_test)\n",
    "X_train.shape\n"
   ]
  },
  {
   "cell_type": "markdown",
   "metadata": {},
   "source": [
    "Selecionando cada tipo de variável (features e target) do conjunto de dados. Apenas contar o número de palavras em cada documento tem um problema: ele dará mais peso a documentos mais longos do que documentos mais curtos. Para evitar isso, podemos usar a frequência (TF - Term Frequencies) e, também, podemos até reduzir o peso de palavras mais comuns (TF-IDF - Term Frequency times inverse document frequency)."
   ]
  },
  {
   "cell_type": "code",
   "execution_count": 128,
   "metadata": {},
   "outputs": [
    {
     "data": {
      "text/plain": [
       "(20219, 344608)"
      ]
     },
     "execution_count": 128,
     "metadata": {},
     "output_type": "execute_result"
    }
   ],
   "source": [
    "tfidf_transformer = TfidfTransformer()\n",
    "X_train_tfidf = tfidf_transformer.fit_transform(X_train)\n",
    "X_train_tfidf.shape"
   ]
  },
  {
   "cell_type": "markdown",
   "metadata": {},
   "source": [
    "### 2. Treinamento\n",
    "\n",
    "Existem vários algoritmos que podem ser usados para classificação de texto, vamos usar Naive Bayes do sklearn e o SGDClassifier para comparar a performance entre eles."
   ]
  },
  {
   "cell_type": "code",
   "execution_count": 129,
   "metadata": {},
   "outputs": [],
   "source": [
    "#Naive Bayes\n",
    "naive_bayes = MultinomialNB(fit_prior=False)\n",
    "\n",
    "#SGDClassifier\n",
    "clf = SGDClassifier(loss='modified_huber', penalty='l2', alpha=1e-4, random_state=42)"
   ]
  },
  {
   "cell_type": "markdown",
   "metadata": {},
   "source": [
    "### 3. Teste"
   ]
  },
  {
   "cell_type": "markdown",
   "metadata": {},
   "source": [
    "Leitura dos arquivos de teste (input00.txt), transformação do arquivo de teste para utilizá-lo nos algoritmos e leitura do arquivo com a classificação correta (output.txt). "
   ]
  },
  {
   "cell_type": "code",
   "execution_count": 130,
   "metadata": {},
   "outputs": [],
   "source": [
    "data_test_json = pd.read_json('input00.txt', orient='records')\n",
    "y_true = pd.read_csv('output00.txt', header=None, names=['labels'])\n",
    "\n",
    "X = data_test_json['excerpt'] + data_test_json['question']\n",
    "X_test = df.transform(X)\n",
    "X_test_tfidf = tfidf_transformer.fit_transform(X_test)"
   ]
  },
  {
   "cell_type": "markdown",
   "metadata": {},
   "source": [
    "Vamo executar o naive bayes com os dados de teste apenas como 'bag of words' e com o tratamento do TF-IDF para observamos o impacto que essa abordagem pode trazer."
   ]
  },
  {
   "cell_type": "code",
   "execution_count": 131,
   "metadata": {},
   "outputs": [
    {
     "name": "stdout",
     "output_type": "stream",
     "text": [
      "Média de acerto:  0.9042708887706227\n",
      "Acurácia:  0.9937682377961323\n"
     ]
    }
   ],
   "source": [
    "naive_bayes.fit(X_train, y)\n",
    "y_pred = naive_bayes.predict(X_test)\n",
    "\n",
    "print \"Média de acerto: \",np.mean(y_pred == np.array(y_true['labels']) )\n",
    "print \"Acurácia: \", naive_bayes.score(X_train, y)"
   ]
  },
  {
   "cell_type": "code",
   "execution_count": 132,
   "metadata": {},
   "outputs": [
    {
     "name": "stdout",
     "output_type": "stream",
     "text": [
      "Média de acerto:  0.8966870675891432\n",
      "Acurácia:  0.9833325090261635\n"
     ]
    }
   ],
   "source": [
    "naive_bayes.fit(X_train_tfidf, y)\n",
    "y_pred = naive_bayes.predict(X_test_tfidf)\n",
    "\n",
    "print \"Média de acerto: \",np.mean(y_pred == np.array(y_true['labels']) )\n",
    "print \"Acurácia: \", naive_bayes.score(X_train_tfidf, y)"
   ]
  },
  {
   "cell_type": "markdown",
   "metadata": {},
   "source": [
    "Vamo seguir a mesma abordagem, executando o SGDClassifier com os dados de teste apenas como 'bag of words' e com o tratamento do TF-IDF para observamos o impacto que essa abordagem pode trazer nesse algoritmo."
   ]
  },
  {
   "cell_type": "code",
   "execution_count": 133,
   "metadata": {},
   "outputs": [
    {
     "name": "stdout",
     "output_type": "stream",
     "text": [
      "Média de acerto:  0.8956226716338478\n",
      "Acurácia:  0.9998516247094317\n"
     ]
    }
   ],
   "source": [
    "clf.fit(X_train, y)\n",
    "y_pred = clf.predict(X_test)\n",
    "\n",
    "print \"Média de acerto: \",np.mean(y_pred == np.array(y_true['labels']) )\n",
    "print \"Acurácia: \", clf.score(X_train, y)"
   ]
  },
  {
   "cell_type": "code",
   "execution_count": 134,
   "metadata": {},
   "outputs": [
    {
     "name": "stdout",
     "output_type": "stream",
     "text": [
      "Média de acerto:  0.9250931346460883\n",
      "Acurácia:  0.9990108313962115\n"
     ]
    }
   ],
   "source": [
    "clf.fit(X_train_tfidf, y)\n",
    "y_pred = clf.predict(X_test_tfidf)\n",
    "\n",
    "print \"Média de acerto: \", np.mean(y_pred == np.array(y_true['labels']) )\n",
    "print \"Acurácia: \", clf.score(X_train_tfidf, y)"
   ]
  },
  {
   "cell_type": "markdown",
   "metadata": {},
   "source": [
    "Gráfico com a quantidade de vezes que cada categoria foi predita pelo algoritmo SGDClassifier."
   ]
  },
  {
   "cell_type": "code",
   "execution_count": 135,
   "metadata": {},
   "outputs": [
    {
     "data": {
      "image/png": "[encoded data removed]",
      "text/plain": [
       "<matplotlib.figure.Figure at 0x240c7630>"
      ]
     },
     "metadata": {},
     "output_type": "display_data"
    }
   ],
   "source": [
    "from collections import Counter\n",
    "\n",
    "labels, values = zip(*Counter(y_pred).items())\n",
    "\n",
    "indexes = np.arange(len(labels))\n",
    "width = 0.75\n",
    "\n",
    "plt.bar(indexes, values, width)\n",
    "plt.xticks(indexes + width * 0.025, labels, size='small',rotation=35)\n",
    "plt.show()"
   ]
  },
  {
   "cell_type": "markdown",
   "metadata": {},
   "source": [
    "Stemming reduz a palavra ao seu radical, por exemplo *gamming -> game*. Essa normalização pode gerar um ganho na análise textual."
   ]
  },
  {
   "cell_type": "code",
   "execution_count": 136,
   "metadata": {},
   "outputs": [],
   "source": [
    "from nltk.stem import PorterStemmer\n",
    "from nltk.tokenize import sent_tokenize, word_tokenize\n",
    "\n",
    "ps = PorterStemmer()\n",
    "\n",
    "words=[]\n",
    "word_stemmer=[]\n",
    "\n",
    "for i, v in data_test.items():\n",
    "    words.append(word_tokenize(v))\n",
    "    \n",
    "for word in words:\n",
    "    word_stemmer.append(ps.stem(str(word)))"
   ]
  },
  {
   "cell_type": "code",
   "execution_count": 137,
   "metadata": {},
   "outputs": [
    {
     "data": {
      "text/plain": [
       "(20219, 344608)"
      ]
     },
     "execution_count": 137,
     "metadata": {},
     "output_type": "execute_result"
    }
   ],
   "source": [
    "X_word_stemmer = df.transform(word_stemmer)\n",
    "X_word_stemmer_tfidf = tfidf_transformer.fit_transform(X_word_stemmer)\n",
    "\n",
    "X_word_stemmer.shape"
   ]
  },
  {
   "cell_type": "code",
   "execution_count": 138,
   "metadata": {},
   "outputs": [
    {
     "name": "stdout",
     "output_type": "stream",
     "text": [
      "Média de acerto:  0.9243613624268228\n",
      "Acurácia:  0.9990108313962115\n"
     ]
    }
   ],
   "source": [
    "clf.fit(X_word_stemmer_tfidf, y)\n",
    "y_pred = clf.predict(X_test_tfidf)\n",
    "\n",
    "print \"Média de acerto: \", np.mean(y_pred == np.array(y_true['labels']) )\n",
    "print \"Acurácia: \", clf.score(X_word_stemmer_tfidf, y)"
   ]
  }
 ],
 "metadata": {
  "kernelspec": {
   "display_name": "Python 2",
   "language": "python",
   "name": "python2"
  },
  "language_info": {
   "codemirror_mode": {
    "name": "ipython",
    "version": 2
   },
   "file_extension": ".py",
   "mimetype": "text/x-python",
   "name": "python",
   "nbconvert_exporter": "python",
   "pygments_lexer": "ipython2",
   "version": "2.7.14"
  }
 },
 "nbformat": 4,
 "nbformat_minor": 2
}
